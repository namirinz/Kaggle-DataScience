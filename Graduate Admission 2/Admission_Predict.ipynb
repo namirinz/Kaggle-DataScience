{
  "nbformat": 4,
  "nbformat_minor": 0,
  "metadata": {
    "colab": {
      "name": "Admission_Predict.ipynb",
      "provenance": [],
      "collapsed_sections": []
    },
    "kernelspec": {
      "name": "python3",
      "display_name": "Python 3"
    },
    "accelerator": "GPU"
  },
  "cells": [
    {
      "cell_type": "code",
      "metadata": {
        "id": "D5jIITM60R-7",
        "colab_type": "code",
        "colab": {
          "base_uri": "https://localhost:8080/",
          "height": 35
        },
        "outputId": "8f1b2c15-c5be-4337-d3fb-5c27291eb316"
      },
      "source": [
        "%cd /content/drive/My Drive/Datasets/Admission_Predict\n",
        "\n",
        "import pandas as pd\n",
        "import numpy as np\n",
        "\n",
        "from sklearn.model_selection import train_test_split,GridSearchCV\n",
        "from sklearn.linear_model import LinearRegression,Lasso,Ridge\n",
        "from sklearn.preprocessing import StandardScaler\n",
        "from sklearn.metrics import mean_squared_error,mean_absolute_error\n",
        "from sklearn.pipeline import make_pipeline"
      ],
      "execution_count": 7,
      "outputs": [
        {
          "output_type": "stream",
          "text": [
            "/content/drive/My Drive/Datasets/Admission_Predict\n"
          ],
          "name": "stdout"
        }
      ]
    },
    {
      "cell_type": "code",
      "metadata": {
        "id": "CyiEKYcl4zkq",
        "colab_type": "code",
        "colab": {
          "base_uri": "https://localhost:8080/",
          "height": 507
        },
        "outputId": "92fa6457-7f0b-4ef0-ef32-6b3d24b7939b"
      },
      "source": [
        "df = pd.read_csv('Admission_Predict_Ver1.1.csv')\n",
        "\n",
        "display(df.head())\n",
        "\n",
        "display(df.info())\n",
        "\n"
      ],
      "execution_count": 8,
      "outputs": [
        {
          "output_type": "display_data",
          "data": {
            "text/html": [
              "<div>\n",
              "<style scoped>\n",
              "    .dataframe tbody tr th:only-of-type {\n",
              "        vertical-align: middle;\n",
              "    }\n",
              "\n",
              "    .dataframe tbody tr th {\n",
              "        vertical-align: top;\n",
              "    }\n",
              "\n",
              "    .dataframe thead th {\n",
              "        text-align: right;\n",
              "    }\n",
              "</style>\n",
              "<table border=\"1\" class=\"dataframe\">\n",
              "  <thead>\n",
              "    <tr style=\"text-align: right;\">\n",
              "      <th></th>\n",
              "      <th>Serial No.</th>\n",
              "      <th>GRE Score</th>\n",
              "      <th>TOEFL Score</th>\n",
              "      <th>University Rating</th>\n",
              "      <th>SOP</th>\n",
              "      <th>LOR</th>\n",
              "      <th>CGPA</th>\n",
              "      <th>Research</th>\n",
              "      <th>Chance of Admit</th>\n",
              "    </tr>\n",
              "  </thead>\n",
              "  <tbody>\n",
              "    <tr>\n",
              "      <th>0</th>\n",
              "      <td>1</td>\n",
              "      <td>337</td>\n",
              "      <td>118</td>\n",
              "      <td>4</td>\n",
              "      <td>4.5</td>\n",
              "      <td>4.5</td>\n",
              "      <td>9.65</td>\n",
              "      <td>1</td>\n",
              "      <td>0.92</td>\n",
              "    </tr>\n",
              "    <tr>\n",
              "      <th>1</th>\n",
              "      <td>2</td>\n",
              "      <td>324</td>\n",
              "      <td>107</td>\n",
              "      <td>4</td>\n",
              "      <td>4.0</td>\n",
              "      <td>4.5</td>\n",
              "      <td>8.87</td>\n",
              "      <td>1</td>\n",
              "      <td>0.76</td>\n",
              "    </tr>\n",
              "    <tr>\n",
              "      <th>2</th>\n",
              "      <td>3</td>\n",
              "      <td>316</td>\n",
              "      <td>104</td>\n",
              "      <td>3</td>\n",
              "      <td>3.0</td>\n",
              "      <td>3.5</td>\n",
              "      <td>8.00</td>\n",
              "      <td>1</td>\n",
              "      <td>0.72</td>\n",
              "    </tr>\n",
              "    <tr>\n",
              "      <th>3</th>\n",
              "      <td>4</td>\n",
              "      <td>322</td>\n",
              "      <td>110</td>\n",
              "      <td>3</td>\n",
              "      <td>3.5</td>\n",
              "      <td>2.5</td>\n",
              "      <td>8.67</td>\n",
              "      <td>1</td>\n",
              "      <td>0.80</td>\n",
              "    </tr>\n",
              "    <tr>\n",
              "      <th>4</th>\n",
              "      <td>5</td>\n",
              "      <td>314</td>\n",
              "      <td>103</td>\n",
              "      <td>2</td>\n",
              "      <td>2.0</td>\n",
              "      <td>3.0</td>\n",
              "      <td>8.21</td>\n",
              "      <td>0</td>\n",
              "      <td>0.65</td>\n",
              "    </tr>\n",
              "  </tbody>\n",
              "</table>\n",
              "</div>"
            ],
            "text/plain": [
              "   Serial No.  GRE Score  TOEFL Score  ...  CGPA  Research  Chance of Admit \n",
              "0           1        337          118  ...  9.65         1              0.92\n",
              "1           2        324          107  ...  8.87         1              0.76\n",
              "2           3        316          104  ...  8.00         1              0.72\n",
              "3           4        322          110  ...  8.67         1              0.80\n",
              "4           5        314          103  ...  8.21         0              0.65\n",
              "\n",
              "[5 rows x 9 columns]"
            ]
          },
          "metadata": {
            "tags": []
          }
        },
        {
          "output_type": "stream",
          "text": [
            "<class 'pandas.core.frame.DataFrame'>\n",
            "RangeIndex: 500 entries, 0 to 499\n",
            "Data columns (total 9 columns):\n",
            " #   Column             Non-Null Count  Dtype  \n",
            "---  ------             --------------  -----  \n",
            " 0   Serial No.         500 non-null    int64  \n",
            " 1   GRE Score          500 non-null    int64  \n",
            " 2   TOEFL Score        500 non-null    int64  \n",
            " 3   University Rating  500 non-null    int64  \n",
            " 4   SOP                500 non-null    float64\n",
            " 5   LOR                500 non-null    float64\n",
            " 6   CGPA               500 non-null    float64\n",
            " 7   Research           500 non-null    int64  \n",
            " 8   Chance of Admit    500 non-null    float64\n",
            "dtypes: float64(4), int64(5)\n",
            "memory usage: 35.3 KB\n"
          ],
          "name": "stdout"
        },
        {
          "output_type": "display_data",
          "data": {
            "text/plain": [
              "None"
            ]
          },
          "metadata": {
            "tags": []
          }
        }
      ]
    },
    {
      "cell_type": "code",
      "metadata": {
        "id": "17W_EsQj5f8J",
        "colab_type": "code",
        "colab": {
          "base_uri": "https://localhost:8080/",
          "height": 318
        },
        "outputId": "aed5e29e-0186-4163-d069-b268290aa6f5"
      },
      "source": [
        "# display correlation of feature pair\n",
        "display(df.corr())\n",
        "\n",
        "# We see that all feature except Serial No. have less correlation compare to Chance of Admit (label)\n",
        "# So we drop it"
      ],
      "execution_count": 9,
      "outputs": [
        {
          "output_type": "display_data",
          "data": {
            "text/html": [
              "<div>\n",
              "<style scoped>\n",
              "    .dataframe tbody tr th:only-of-type {\n",
              "        vertical-align: middle;\n",
              "    }\n",
              "\n",
              "    .dataframe tbody tr th {\n",
              "        vertical-align: top;\n",
              "    }\n",
              "\n",
              "    .dataframe thead th {\n",
              "        text-align: right;\n",
              "    }\n",
              "</style>\n",
              "<table border=\"1\" class=\"dataframe\">\n",
              "  <thead>\n",
              "    <tr style=\"text-align: right;\">\n",
              "      <th></th>\n",
              "      <th>Serial No.</th>\n",
              "      <th>GRE Score</th>\n",
              "      <th>TOEFL Score</th>\n",
              "      <th>University Rating</th>\n",
              "      <th>SOP</th>\n",
              "      <th>LOR</th>\n",
              "      <th>CGPA</th>\n",
              "      <th>Research</th>\n",
              "      <th>Chance of Admit</th>\n",
              "    </tr>\n",
              "  </thead>\n",
              "  <tbody>\n",
              "    <tr>\n",
              "      <th>Serial No.</th>\n",
              "      <td>1.000000</td>\n",
              "      <td>-0.103839</td>\n",
              "      <td>-0.141696</td>\n",
              "      <td>-0.067641</td>\n",
              "      <td>-0.137352</td>\n",
              "      <td>-0.003694</td>\n",
              "      <td>-0.074289</td>\n",
              "      <td>-0.005332</td>\n",
              "      <td>0.008505</td>\n",
              "    </tr>\n",
              "    <tr>\n",
              "      <th>GRE Score</th>\n",
              "      <td>-0.103839</td>\n",
              "      <td>1.000000</td>\n",
              "      <td>0.827200</td>\n",
              "      <td>0.635376</td>\n",
              "      <td>0.613498</td>\n",
              "      <td>0.524679</td>\n",
              "      <td>0.825878</td>\n",
              "      <td>0.563398</td>\n",
              "      <td>0.810351</td>\n",
              "    </tr>\n",
              "    <tr>\n",
              "      <th>TOEFL Score</th>\n",
              "      <td>-0.141696</td>\n",
              "      <td>0.827200</td>\n",
              "      <td>1.000000</td>\n",
              "      <td>0.649799</td>\n",
              "      <td>0.644410</td>\n",
              "      <td>0.541563</td>\n",
              "      <td>0.810574</td>\n",
              "      <td>0.467012</td>\n",
              "      <td>0.792228</td>\n",
              "    </tr>\n",
              "    <tr>\n",
              "      <th>University Rating</th>\n",
              "      <td>-0.067641</td>\n",
              "      <td>0.635376</td>\n",
              "      <td>0.649799</td>\n",
              "      <td>1.000000</td>\n",
              "      <td>0.728024</td>\n",
              "      <td>0.608651</td>\n",
              "      <td>0.705254</td>\n",
              "      <td>0.427047</td>\n",
              "      <td>0.690132</td>\n",
              "    </tr>\n",
              "    <tr>\n",
              "      <th>SOP</th>\n",
              "      <td>-0.137352</td>\n",
              "      <td>0.613498</td>\n",
              "      <td>0.644410</td>\n",
              "      <td>0.728024</td>\n",
              "      <td>1.000000</td>\n",
              "      <td>0.663707</td>\n",
              "      <td>0.712154</td>\n",
              "      <td>0.408116</td>\n",
              "      <td>0.684137</td>\n",
              "    </tr>\n",
              "    <tr>\n",
              "      <th>LOR</th>\n",
              "      <td>-0.003694</td>\n",
              "      <td>0.524679</td>\n",
              "      <td>0.541563</td>\n",
              "      <td>0.608651</td>\n",
              "      <td>0.663707</td>\n",
              "      <td>1.000000</td>\n",
              "      <td>0.637469</td>\n",
              "      <td>0.372526</td>\n",
              "      <td>0.645365</td>\n",
              "    </tr>\n",
              "    <tr>\n",
              "      <th>CGPA</th>\n",
              "      <td>-0.074289</td>\n",
              "      <td>0.825878</td>\n",
              "      <td>0.810574</td>\n",
              "      <td>0.705254</td>\n",
              "      <td>0.712154</td>\n",
              "      <td>0.637469</td>\n",
              "      <td>1.000000</td>\n",
              "      <td>0.501311</td>\n",
              "      <td>0.882413</td>\n",
              "    </tr>\n",
              "    <tr>\n",
              "      <th>Research</th>\n",
              "      <td>-0.005332</td>\n",
              "      <td>0.563398</td>\n",
              "      <td>0.467012</td>\n",
              "      <td>0.427047</td>\n",
              "      <td>0.408116</td>\n",
              "      <td>0.372526</td>\n",
              "      <td>0.501311</td>\n",
              "      <td>1.000000</td>\n",
              "      <td>0.545871</td>\n",
              "    </tr>\n",
              "    <tr>\n",
              "      <th>Chance of Admit</th>\n",
              "      <td>0.008505</td>\n",
              "      <td>0.810351</td>\n",
              "      <td>0.792228</td>\n",
              "      <td>0.690132</td>\n",
              "      <td>0.684137</td>\n",
              "      <td>0.645365</td>\n",
              "      <td>0.882413</td>\n",
              "      <td>0.545871</td>\n",
              "      <td>1.000000</td>\n",
              "    </tr>\n",
              "  </tbody>\n",
              "</table>\n",
              "</div>"
            ],
            "text/plain": [
              "                   Serial No.  GRE Score  ...  Research  Chance of Admit \n",
              "Serial No.           1.000000  -0.103839  ... -0.005332          0.008505\n",
              "GRE Score           -0.103839   1.000000  ...  0.563398          0.810351\n",
              "TOEFL Score         -0.141696   0.827200  ...  0.467012          0.792228\n",
              "University Rating   -0.067641   0.635376  ...  0.427047          0.690132\n",
              "SOP                 -0.137352   0.613498  ...  0.408116          0.684137\n",
              "LOR                 -0.003694   0.524679  ...  0.372526          0.645365\n",
              "CGPA                -0.074289   0.825878  ...  0.501311          0.882413\n",
              "Research            -0.005332   0.563398  ...  1.000000          0.545871\n",
              "Chance of Admit      0.008505   0.810351  ...  0.545871          1.000000\n",
              "\n",
              "[9 rows x 9 columns]"
            ]
          },
          "metadata": {
            "tags": []
          }
        }
      ]
    },
    {
      "cell_type": "code",
      "metadata": {
        "id": "gfIwBSSF7NMF",
        "colab_type": "code",
        "colab": {
          "base_uri": "https://localhost:8080/",
          "height": 254
        },
        "outputId": "1ac161e3-bd60-4979-cc02-cd62b1622adb"
      },
      "source": [
        "# Feature selection\n",
        "# # drop 'Serial No.' and 'Chance of Admit ' and change to numpy array\n",
        "X = df.drop(columns = ['Serial No.','Chance of Admit ']).values\n",
        "\n",
        "# scale feature\n",
        "X = StandardScaler().fit_transform(X)\n",
        "display(X)\n",
        "\n",
        "\n",
        "# Label selection\n",
        "# # select 'Chance of Admit ' columns and change to numpy array\n",
        "y = df['Chance of Admit '].values"
      ],
      "execution_count": 10,
      "outputs": [
        {
          "output_type": "display_data",
          "data": {
            "text/plain": [
              "array([[ 1.81923762,  1.77886545,  0.77558214, ...,  1.09894429,\n",
              "         1.77680627,  0.88640526],\n",
              "       [ 0.66714832, -0.03160087,  0.77558214, ...,  1.09894429,\n",
              "         0.48585943,  0.88640526],\n",
              "       [-0.0418297 , -0.52536441, -0.09979274, ...,  0.01730621,\n",
              "        -0.95404281,  0.88640526],\n",
              "       ...,\n",
              "       [ 1.19888185,  2.10804114,  1.65095702, ...,  1.63976333,\n",
              "         1.62785086,  0.88640526],\n",
              "       [-0.39631872, -0.68995225,  0.77558214, ...,  1.63976333,\n",
              "        -0.24236699, -1.12815215],\n",
              "       [ 0.93301508,  0.95592621,  0.77558214, ...,  1.09894429,\n",
              "         0.76721964, -1.12815215]])"
            ]
          },
          "metadata": {
            "tags": []
          }
        }
      ]
    },
    {
      "cell_type": "code",
      "metadata": {
        "id": "fmrfQgWO9fcY",
        "colab_type": "code",
        "colab": {
          "base_uri": "https://localhost:8080/",
          "height": 417
        },
        "outputId": "6a32e449-0828-45ac-fcaf-ec433f36d7d3"
      },
      "source": [
        "X_train, X_test, y_train, y_test = train_test_split(X, y, test_size = 0.20)\n",
        "\n",
        "Linereg = LinearRegression()\n",
        "Ridreg = Ridge()\n",
        "Lassreg = Lasso()\n",
        "\n",
        "param_grid = {'alpha': np.arange(0.001,1.1,0.001)}\n",
        "\n",
        "Ridreg_cv = GridSearchCV(Ridreg, param_grid, n_jobs = -1)\n",
        "Lassreg_cv = GridSearchCV(Lassreg, param_grid, n_jobs = -1)\n",
        "\n",
        "Ridreg_cv.fit(X_train, y_train)\n",
        "Lassreg_cv.fit(X_train, y_train)\n",
        "Linereg.fit(X_train, y_train)\n",
        "\n",
        "y_pred_rid = Ridreg_cv.predict(X_test)\n",
        "y_pred_lass = Lassreg_cv.predict(X_test)\n",
        "y_pred_line = Linereg.predict(X_test)\n",
        "\n",
        "print(Ridreg_cv.best_params_)\n",
        "print(\"Train score: {}, Test score: {}\".format(Ridreg_cv.score(X_train,y_train),Ridreg_cv.score(X_test, y_test)))\n",
        "print(\"MSE for Ridge Regression :\",mean_squared_error(y_test, y_pred_rid))\n",
        "print()\n",
        "\n",
        "print(Lassreg_cv.best_params_)\n",
        "print(\"Train score: {}, Test score: {}\".format(Lassreg_cv.score(X_train, y_train),Lassreg_cv.score(X_test, y_test)))\n",
        "print(\"MSE for Lasso Regression :\",mean_squared_error(y_test, y_pred_lass),)\n",
        "print()\n",
        "\n",
        "print(\"Train score: {}, Test score: {}\".format(Linereg.score(X_train, y_train),Linereg.score(X_test, y_test)))\n",
        "print(\"MSE for Line Regression :\",mean_squared_error(y_test,y_pred_line))"
      ],
      "execution_count": 16,
      "outputs": [
        {
          "output_type": "stream",
          "text": [
            "BEST RID : {'alpha': 1.0999999999999999}\n",
            "Train score: 0.832408063145123, Test score: 0.7698465981769506\n",
            "MSE for Ridge Regression : 0.003983412223528683\n",
            "\n",
            "BEST LASS : {'alpha': 0.001}\n",
            "Train score: 0.832332898794163, Test score: 0.7700390839267587\n",
            "MSE for Lasso Regression : 0.003980080749465876\n",
            "\n",
            "Train score: 0.8324151904208141, Test score: 0.7692727660555914\n",
            "MSE for Line Regression : 0.003993343903305605\n",
            "\n",
            "{'learning_rate': 0.14, 'loss': 'exponential', 'n_estimators': 5}\n",
            "Train score : 0.8311853452309704, Test score: 0.7700023026693432\n",
            "MSE for Lasso Regression + Adaboost : 0.003980717346227968\n",
            "\n",
            "{'max_features': 0.9, 'max_samples': 1.0, 'n_estimators': 5}\n",
            "Train score : 0.8296350308186355, Test score: 0.7774853264637687\n",
            "MSE for Lasso Regression + Bagging : 0.003851203864282621\n",
            "\n",
            "{'n_estimators': 1700, 'min_samples_split': 2, 'min_samples_leaf': 4, 'max_features': 'log2', 'max_depth': 19, 'criterion': 'mae'}\n",
            "Train score: 0.8752577436404875, Test score: 0.7670983965186808\n",
            "MSE for Random Forest Regression : 0.004030977108477418\n"
          ],
          "name": "stdout"
        }
      ]
    },
    {
      "cell_type": "code",
      "metadata": {
        "id": "w6lImb-byCql",
        "colab_type": "code",
        "colab": {
          "base_uri": "https://localhost:8080/",
          "height": 126
        },
        "outputId": "5e10607e-b525-45ce-f1f2-f3371af0349b"
      },
      "source": [
        "from sklearn.ensemble import AdaBoostRegressor\n",
        "from sklearn.ensemble import BaggingRegressor\n",
        "\n",
        "best_estimator = Lassreg_cv.best_estimator_\n",
        "\n",
        "lasso_Ada = AdaBoostRegressor(base_estimator=best_estimator)\n",
        "param_Ada = {'learning_rate': np.arange(0.01,1.1,0.01), 'loss': ['linear', 'square', 'exponential'], 'n_estimators': np.arange(5,55,5)}\n",
        "lasso_Ada_cv = GridSearchCV(lasso_Ada, param_Ada, n_jobs = -1)\n",
        "\n",
        "lasso_Ada_cv.fit(X_train, y_train)\n",
        "y_pred_lasso_Ada = lasso_Ada_cv.predict(X_test)\n",
        "\n",
        "print(lasso_Ada_cv.best_params_)\n",
        "print(\"Train score : {}, Test score: {}\".format(lasso_Ada_cv.score(X_train, y_train),lasso_Ada_cv.score(X_test, y_test)))\n",
        "print(\"MSE for Lasso Regression + Adaboost :\",mean_squared_error(y_test, y_pred_lasso_Ada))\n",
        "print()\n",
        "\n",
        "lasso_bag = BaggingRegressor(base_estimator=best_estimator)\n",
        "param_bag = {'n_estimators': np.arange(5,55,5), 'max_features': np.arange(0.1,1.1,0.1), 'max_samples': np.arange(0.1,1.1,0.1)}\n",
        "lasso_bag_cv = GridSearchCV(lasso_bag, param_bag, n_jobs = -1)\n",
        "\n",
        "lasso_bag_cv.fit(X_train, y_train)\n",
        "y_pred_lasso_bag = lasso_bag_cv.predict(X_test)\n",
        "\n",
        "print(lasso_bag_cv.best_params_)\n",
        "print(\"Train score : {}, Test score: {}\".format(lasso_bag_cv.score(X_train, y_train),lasso_bag_cv.score(X_test, y_test)))\n",
        "print(\"MSE for Lasso Regression + Bagging :\",mean_squared_error(y_test, y_pred_lasso_bag))\n"
      ],
      "execution_count": 12,
      "outputs": [
        {
          "output_type": "stream",
          "text": [
            "{'learning_rate': 0.03, 'loss': 'exponential', 'n_estimators': 5}\n",
            "Train score : 0.8084902544848244, Test score: 0.8617721265884312\n",
            "MSE for Lasso Regression + Adaboost : 0.0024918338739903486\n",
            "{'max_features': 0.9, 'max_samples': 0.4, 'n_estimators': 5}\n",
            "Train score : 0.8039161671120798, Test score: 0.8686401028577874\n",
            "MSE for Lasso Regression + Bagging : 0.0023680248657826667\n"
          ],
          "name": "stdout"
        }
      ]
    },
    {
      "cell_type": "code",
      "metadata": {
        "id": "NJtXnxmsbOr3",
        "colab_type": "code",
        "colab": {
          "base_uri": "https://localhost:8080/",
          "height": 72
        },
        "outputId": "2af06780-6667-4755-c884-5b101a985520"
      },
      "source": [
        "from sklearn.ensemble import RandomForestRegressor\n",
        "from sklearn.model_selection import RandomizedSearchCV\n",
        "\n",
        "param = {'n_estimators': np.arange(100,2000,200),\n",
        "        'criterion': ['mse','mae'], \n",
        "         'max_depth': np.arange(1,20,1), \n",
        "         'min_samples_split': [2,4,6,8], \n",
        "         'min_samples_leaf': np.arange(1,11,1), \n",
        "         'max_features': ['auto','sqrt','log2'],\n",
        "}\n",
        "\n",
        "rf_cv = RandomizedSearchCV(RandomForestRegressor(n_jobs = -1), param, n_jobs = -1)\n",
        "rf_cv.fit(X_train, y_train)\n",
        "y_pred_rf = rf_cv.predict(X_test)\n",
        "\n",
        "print(rf_cv.best_params_)\n",
        "print(\"Train score: {}, Test score: {}\".format(rf_cv.score(X_train, y_train),rf_cv.score(X_test, y_test)))\n",
        "print(\"MSE for Random Forest Regression :\",mean_squared_error(y_test, y_pred_rf))"
      ],
      "execution_count": 14,
      "outputs": [
        {
          "output_type": "stream",
          "text": [
            "{'n_estimators': 1100, 'min_samples_split': 4, 'min_samples_leaf': 2, 'max_features': 'sqrt', 'max_depth': 5, 'criterion': 'mse'}\n",
            "Train score: 0.8609694425696603, Test score: 0.8634587638601428\n",
            "MSE for Random Forest Regression : 0.0024614288638932077\n"
          ],
          "name": "stdout"
        }
      ]
    }
  ]
}