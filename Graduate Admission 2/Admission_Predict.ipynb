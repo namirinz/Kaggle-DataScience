{
  "nbformat": 4,
  "nbformat_minor": 0,
  "metadata": {
    "colab": {
      "name": "Admission_Predict.ipynb",
      "provenance": [],
      "collapsed_sections": []
    },
    "kernelspec": {
      "name": "python3",
      "display_name": "Python 3"
    },
    "accelerator": "GPU"
  },
  "cells": [
    {
      "cell_type": "code",
      "metadata": {
        "id": "D5jIITM60R-7",
        "colab_type": "code",
        "colab": {
          "base_uri": "https://localhost:8080/",
          "height": 35
        },
        "outputId": "f31ccd01-6a1c-4605-f06f-d71c78dec9e2"
      },
      "source": [
        "%cd /content/drive/My Drive/Datasets/Admission_Predict\n",
        "\n",
        "import pandas as pd\n",
        "import numpy as np\n",
        "import matplotlib.pyplot as plt\n",
        "\n",
        "from sklearn.model_selection import train_test_split,RandomizedSearchCV,GridSearchCV\n",
        "from sklearn.linear_model import LinearRegression,Lasso,Ridge\n",
        "from sklearn.preprocessing import StandardScaler\n",
        "from sklearn.metrics import mean_squared_error,mean_absolute_error\n",
        "from sklearn.decomposition import PCA"
      ],
      "execution_count": 30,
      "outputs": [
        {
          "output_type": "stream",
          "text": [
            "/content/drive/My Drive/Datasets/Admission_Predict\n"
          ],
          "name": "stdout"
        }
      ]
    },
    {
      "cell_type": "code",
      "metadata": {
        "id": "CyiEKYcl4zkq",
        "colab_type": "code",
        "colab": {
          "base_uri": "https://localhost:8080/",
          "height": 497
        },
        "outputId": "b8972a24-b72c-408d-faf7-72b05eaaaa32"
      },
      "source": [
        "df = pd.read_csv('Admission_Predict_Ver1.1.csv')\n",
        "\n",
        "display(df.head())\n",
        "\n",
        "display(df.info())"
      ],
      "execution_count": 31,
      "outputs": [
        {
          "output_type": "display_data",
          "data": {
            "text/html": [
              "<div>\n",
              "<style scoped>\n",
              "    .dataframe tbody tr th:only-of-type {\n",
              "        vertical-align: middle;\n",
              "    }\n",
              "\n",
              "    .dataframe tbody tr th {\n",
              "        vertical-align: top;\n",
              "    }\n",
              "\n",
              "    .dataframe thead th {\n",
              "        text-align: right;\n",
              "    }\n",
              "</style>\n",
              "<table border=\"1\" class=\"dataframe\">\n",
              "  <thead>\n",
              "    <tr style=\"text-align: right;\">\n",
              "      <th></th>\n",
              "      <th>Serial No.</th>\n",
              "      <th>GRE Score</th>\n",
              "      <th>TOEFL Score</th>\n",
              "      <th>University Rating</th>\n",
              "      <th>SOP</th>\n",
              "      <th>LOR</th>\n",
              "      <th>CGPA</th>\n",
              "      <th>Research</th>\n",
              "      <th>Chance of Admit</th>\n",
              "    </tr>\n",
              "  </thead>\n",
              "  <tbody>\n",
              "    <tr>\n",
              "      <th>0</th>\n",
              "      <td>1</td>\n",
              "      <td>337</td>\n",
              "      <td>118</td>\n",
              "      <td>4</td>\n",
              "      <td>4.5</td>\n",
              "      <td>4.5</td>\n",
              "      <td>9.65</td>\n",
              "      <td>1</td>\n",
              "      <td>0.92</td>\n",
              "    </tr>\n",
              "    <tr>\n",
              "      <th>1</th>\n",
              "      <td>2</td>\n",
              "      <td>324</td>\n",
              "      <td>107</td>\n",
              "      <td>4</td>\n",
              "      <td>4.0</td>\n",
              "      <td>4.5</td>\n",
              "      <td>8.87</td>\n",
              "      <td>1</td>\n",
              "      <td>0.76</td>\n",
              "    </tr>\n",
              "    <tr>\n",
              "      <th>2</th>\n",
              "      <td>3</td>\n",
              "      <td>316</td>\n",
              "      <td>104</td>\n",
              "      <td>3</td>\n",
              "      <td>3.0</td>\n",
              "      <td>3.5</td>\n",
              "      <td>8.00</td>\n",
              "      <td>1</td>\n",
              "      <td>0.72</td>\n",
              "    </tr>\n",
              "    <tr>\n",
              "      <th>3</th>\n",
              "      <td>4</td>\n",
              "      <td>322</td>\n",
              "      <td>110</td>\n",
              "      <td>3</td>\n",
              "      <td>3.5</td>\n",
              "      <td>2.5</td>\n",
              "      <td>8.67</td>\n",
              "      <td>1</td>\n",
              "      <td>0.80</td>\n",
              "    </tr>\n",
              "    <tr>\n",
              "      <th>4</th>\n",
              "      <td>5</td>\n",
              "      <td>314</td>\n",
              "      <td>103</td>\n",
              "      <td>2</td>\n",
              "      <td>2.0</td>\n",
              "      <td>3.0</td>\n",
              "      <td>8.21</td>\n",
              "      <td>0</td>\n",
              "      <td>0.65</td>\n",
              "    </tr>\n",
              "  </tbody>\n",
              "</table>\n",
              "</div>"
            ],
            "text/plain": [
              "   Serial No.  GRE Score  TOEFL Score  ...  CGPA  Research  Chance of Admit \n",
              "0           1        337          118  ...  9.65         1              0.92\n",
              "1           2        324          107  ...  8.87         1              0.76\n",
              "2           3        316          104  ...  8.00         1              0.72\n",
              "3           4        322          110  ...  8.67         1              0.80\n",
              "4           5        314          103  ...  8.21         0              0.65\n",
              "\n",
              "[5 rows x 9 columns]"
            ]
          },
          "metadata": {
            "tags": []
          }
        },
        {
          "output_type": "stream",
          "text": [
            "<class 'pandas.core.frame.DataFrame'>\n",
            "RangeIndex: 500 entries, 0 to 499\n",
            "Data columns (total 9 columns):\n",
            " #   Column             Non-Null Count  Dtype  \n",
            "---  ------             --------------  -----  \n",
            " 0   Serial No.         500 non-null    int64  \n",
            " 1   GRE Score          500 non-null    int64  \n",
            " 2   TOEFL Score        500 non-null    int64  \n",
            " 3   University Rating  500 non-null    int64  \n",
            " 4   SOP                500 non-null    float64\n",
            " 5   LOR                500 non-null    float64\n",
            " 6   CGPA               500 non-null    float64\n",
            " 7   Research           500 non-null    int64  \n",
            " 8   Chance of Admit    500 non-null    float64\n",
            "dtypes: float64(4), int64(5)\n",
            "memory usage: 35.3 KB\n"
          ],
          "name": "stdout"
        },
        {
          "output_type": "display_data",
          "data": {
            "text/plain": [
              "None"
            ]
          },
          "metadata": {
            "tags": []
          }
        }
      ]
    },
    {
      "cell_type": "code",
      "metadata": {
        "id": "17W_EsQj5f8J",
        "colab_type": "code",
        "colab": {
          "base_uri": "https://localhost:8080/",
          "height": 325
        },
        "outputId": "d401ed4c-0c2b-42c3-a836-cc713433d20e"
      },
      "source": [
        "# display correlation of feature pair\n",
        "display(df.corr())\n",
        "\n",
        "# We see that all feature except Serial No. have less correlation compare to Chance of Admit (label)\n",
        "# So we drop it"
      ],
      "execution_count": 32,
      "outputs": [
        {
          "output_type": "display_data",
          "data": {
            "text/html": [
              "<div>\n",
              "<style scoped>\n",
              "    .dataframe tbody tr th:only-of-type {\n",
              "        vertical-align: middle;\n",
              "    }\n",
              "\n",
              "    .dataframe tbody tr th {\n",
              "        vertical-align: top;\n",
              "    }\n",
              "\n",
              "    .dataframe thead th {\n",
              "        text-align: right;\n",
              "    }\n",
              "</style>\n",
              "<table border=\"1\" class=\"dataframe\">\n",
              "  <thead>\n",
              "    <tr style=\"text-align: right;\">\n",
              "      <th></th>\n",
              "      <th>Serial No.</th>\n",
              "      <th>GRE Score</th>\n",
              "      <th>TOEFL Score</th>\n",
              "      <th>University Rating</th>\n",
              "      <th>SOP</th>\n",
              "      <th>LOR</th>\n",
              "      <th>CGPA</th>\n",
              "      <th>Research</th>\n",
              "      <th>Chance of Admit</th>\n",
              "    </tr>\n",
              "  </thead>\n",
              "  <tbody>\n",
              "    <tr>\n",
              "      <th>Serial No.</th>\n",
              "      <td>1.000000</td>\n",
              "      <td>-0.103839</td>\n",
              "      <td>-0.141696</td>\n",
              "      <td>-0.067641</td>\n",
              "      <td>-0.137352</td>\n",
              "      <td>-0.003694</td>\n",
              "      <td>-0.074289</td>\n",
              "      <td>-0.005332</td>\n",
              "      <td>0.008505</td>\n",
              "    </tr>\n",
              "    <tr>\n",
              "      <th>GRE Score</th>\n",
              "      <td>-0.103839</td>\n",
              "      <td>1.000000</td>\n",
              "      <td>0.827200</td>\n",
              "      <td>0.635376</td>\n",
              "      <td>0.613498</td>\n",
              "      <td>0.524679</td>\n",
              "      <td>0.825878</td>\n",
              "      <td>0.563398</td>\n",
              "      <td>0.810351</td>\n",
              "    </tr>\n",
              "    <tr>\n",
              "      <th>TOEFL Score</th>\n",
              "      <td>-0.141696</td>\n",
              "      <td>0.827200</td>\n",
              "      <td>1.000000</td>\n",
              "      <td>0.649799</td>\n",
              "      <td>0.644410</td>\n",
              "      <td>0.541563</td>\n",
              "      <td>0.810574</td>\n",
              "      <td>0.467012</td>\n",
              "      <td>0.792228</td>\n",
              "    </tr>\n",
              "    <tr>\n",
              "      <th>University Rating</th>\n",
              "      <td>-0.067641</td>\n",
              "      <td>0.635376</td>\n",
              "      <td>0.649799</td>\n",
              "      <td>1.000000</td>\n",
              "      <td>0.728024</td>\n",
              "      <td>0.608651</td>\n",
              "      <td>0.705254</td>\n",
              "      <td>0.427047</td>\n",
              "      <td>0.690132</td>\n",
              "    </tr>\n",
              "    <tr>\n",
              "      <th>SOP</th>\n",
              "      <td>-0.137352</td>\n",
              "      <td>0.613498</td>\n",
              "      <td>0.644410</td>\n",
              "      <td>0.728024</td>\n",
              "      <td>1.000000</td>\n",
              "      <td>0.663707</td>\n",
              "      <td>0.712154</td>\n",
              "      <td>0.408116</td>\n",
              "      <td>0.684137</td>\n",
              "    </tr>\n",
              "    <tr>\n",
              "      <th>LOR</th>\n",
              "      <td>-0.003694</td>\n",
              "      <td>0.524679</td>\n",
              "      <td>0.541563</td>\n",
              "      <td>0.608651</td>\n",
              "      <td>0.663707</td>\n",
              "      <td>1.000000</td>\n",
              "      <td>0.637469</td>\n",
              "      <td>0.372526</td>\n",
              "      <td>0.645365</td>\n",
              "    </tr>\n",
              "    <tr>\n",
              "      <th>CGPA</th>\n",
              "      <td>-0.074289</td>\n",
              "      <td>0.825878</td>\n",
              "      <td>0.810574</td>\n",
              "      <td>0.705254</td>\n",
              "      <td>0.712154</td>\n",
              "      <td>0.637469</td>\n",
              "      <td>1.000000</td>\n",
              "      <td>0.501311</td>\n",
              "      <td>0.882413</td>\n",
              "    </tr>\n",
              "    <tr>\n",
              "      <th>Research</th>\n",
              "      <td>-0.005332</td>\n",
              "      <td>0.563398</td>\n",
              "      <td>0.467012</td>\n",
              "      <td>0.427047</td>\n",
              "      <td>0.408116</td>\n",
              "      <td>0.372526</td>\n",
              "      <td>0.501311</td>\n",
              "      <td>1.000000</td>\n",
              "      <td>0.545871</td>\n",
              "    </tr>\n",
              "    <tr>\n",
              "      <th>Chance of Admit</th>\n",
              "      <td>0.008505</td>\n",
              "      <td>0.810351</td>\n",
              "      <td>0.792228</td>\n",
              "      <td>0.690132</td>\n",
              "      <td>0.684137</td>\n",
              "      <td>0.645365</td>\n",
              "      <td>0.882413</td>\n",
              "      <td>0.545871</td>\n",
              "      <td>1.000000</td>\n",
              "    </tr>\n",
              "  </tbody>\n",
              "</table>\n",
              "</div>"
            ],
            "text/plain": [
              "                   Serial No.  GRE Score  ...  Research  Chance of Admit \n",
              "Serial No.           1.000000  -0.103839  ... -0.005332          0.008505\n",
              "GRE Score           -0.103839   1.000000  ...  0.563398          0.810351\n",
              "TOEFL Score         -0.141696   0.827200  ...  0.467012          0.792228\n",
              "University Rating   -0.067641   0.635376  ...  0.427047          0.690132\n",
              "SOP                 -0.137352   0.613498  ...  0.408116          0.684137\n",
              "LOR                 -0.003694   0.524679  ...  0.372526          0.645365\n",
              "CGPA                -0.074289   0.825878  ...  0.501311          0.882413\n",
              "Research            -0.005332   0.563398  ...  1.000000          0.545871\n",
              "Chance of Admit      0.008505   0.810351  ...  0.545871          1.000000\n",
              "\n",
              "[9 rows x 9 columns]"
            ]
          },
          "metadata": {
            "tags": []
          }
        }
      ]
    },
    {
      "cell_type": "code",
      "metadata": {
        "id": "gfIwBSSF7NMF",
        "colab_type": "code",
        "colab": {
          "base_uri": "https://localhost:8080/",
          "height": 268
        },
        "outputId": "1d7d29dd-4379-4a5b-ee3e-c2923d0226c4"
      },
      "source": [
        "# Feature selection\n",
        "# # drop 'Serial No.' and 'Chance of Admit ' and change to numpy array\n",
        "X = df.drop(columns = ['Serial No.','Chance of Admit '])\n",
        "\n",
        "# Label selection\n",
        "# # select 'Chance of Admit ' columns and change to numpy array\n",
        "y = df['Chance of Admit ']\n",
        "\n",
        "\n",
        "X_train, X_test, y_train, y_test = train_test_split(X, y, test_size = 0.20)\n",
        "\n",
        "# You need to Scaling data first before Dimensional Reduction\n",
        "\n",
        "# Scaling on training set\n",
        "scale = StandardScaler()\n",
        "scale.fit(X_train)\n",
        "X_train = scale.transform(X_train)\n",
        "\n",
        "# Dimensional Reduction on training set \n",
        "# find n_components by select 'Elbow' in the plot\n",
        "pca = PCA(n_components = 0.9)\n",
        "pca.fit(X_train)\n",
        "plt.plot(pca.explained_variance_ratio_)\n",
        "plt.show()\n",
        "# assign new PCA \n",
        "true_pca = PCA(n_components = 2)\n",
        "true_pca.fit(X_train)\n",
        "X_train = true_pca.transform(X_train)\n",
        "\n",
        "# Scaling on test set using training set information (mean, std)\n",
        "X_test = scale.transform(X_test)\n",
        "\n",
        "# Dimensional Reduction on test set using traing set information\n",
        "X_test = true_pca.transform(X_test)"
      ],
      "execution_count": 33,
      "outputs": [
        {
          "output_type": "display_data",
          "data": {
            "image/png": "[encoded data removed]",
            "text/plain": [
              "<Figure size 432x288 with 1 Axes>"
            ]
          },
          "metadata": {
            "tags": [],
            "needs_background": "light"
          }
        }
      ]
    },
    {
      "cell_type": "code",
      "metadata": {
        "id": "fmrfQgWO9fcY",
        "colab_type": "code",
        "colab": {
          "base_uri": "https://localhost:8080/",
          "height": 280
        },
        "outputId": "b716f3a3-7a42-458e-b81a-338d7439eaaf"
      },
      "source": [
        "Linereg = LinearRegression()\n",
        "Ridreg = Ridge()\n",
        "Lassreg = Lasso()\n",
        "\n",
        "param_grid = {'alpha': [0.001, 0.01, 0.1, 1]}\n",
        "\n",
        "Ridreg_cv = GridSearchCV(Ridreg, param_grid, n_jobs = -1)\n",
        "Lassreg_cv = GridSearchCV(Lassreg, param_grid, n_jobs = -1)\n",
        "\n",
        "Ridreg_cv.fit(X_train, y_train)\n",
        "Lassreg_cv.fit(X_train, y_train)\n",
        "Linereg.fit(X_train, y_train)\n",
        "\n",
        "y_pred_rid = Ridreg_cv.predict(X_test)\n",
        "y_pred_lass = Lassreg_cv.predict(X_test)\n",
        "y_pred_line = Linereg.predict(X_test)\n",
        "\n",
        "print(Ridreg_cv.best_params_)\n",
        "print(\"Train score: {}, Test score: {}\".format(Ridreg_cv.score(X_train,y_train),Ridreg_cv.score(X_test, y_test)))\n",
        "print(\"MSE for Ridge Regression :\",mean_squared_error(y_test, y_pred_rid))\n",
        "print()\n",
        "\n",
        "print(Lassreg_cv.best_params_)\n",
        "print(\"Train score: {}, Test score: {}\".format(Lassreg_cv.score(X_train, y_train),Lassreg_cv.score(X_test, y_test)))\n",
        "print(\"MSE for Lasso Regression :\",mean_squared_error(y_test, y_pred_lass),)\n",
        "print()\n",
        "\n",
        "print(\"Train score: {}, Test score: {}\".format(Linereg.score(X_train, y_train),Linereg.score(X_test, y_test)))\n",
        "print(\"MSE for Line Regression :\",mean_squared_error(y_test,y_pred_line))"
      ],
      "execution_count": 34,
      "outputs": [
        {
          "output_type": "stream",
          "text": [
            "/usr/local/lib/python3.6/dist-packages/sklearn/model_selection/_search.py:281: UserWarning: The total space of parameters 4 is smaller than n_iter=10. Running 4 iterations. For exhaustive searches, use GridSearchCV.\n",
            "  % (grid_size, self.n_iter, grid_size), UserWarning)\n"
          ],
          "name": "stderr"
        },
        {
          "output_type": "stream",
          "text": [
            "{'alpha': 1}\n",
            "Train score: 0.8094334179443027, Test score: 0.7086812040940078\n",
            "MSE for Ridge Regression : 0.0065751118346055884\n",
            "\n",
            "{'alpha': 0.001}\n",
            "Train score: 0.8093535129983517, Test score: 0.7085918927893765\n",
            "MSE for Lasso Regression : 0.006577127605040926\n",
            "\n",
            "Train score: 0.8094336916869462, Test score: 0.7087144528437583\n",
            "MSE for Line Regression : 0.0065743614050039175\n"
          ],
          "name": "stdout"
        },
        {
          "output_type": "stream",
          "text": [
            "/usr/local/lib/python3.6/dist-packages/sklearn/model_selection/_search.py:281: UserWarning: The total space of parameters 4 is smaller than n_iter=10. Running 4 iterations. For exhaustive searches, use GridSearchCV.\n",
            "  % (grid_size, self.n_iter, grid_size), UserWarning)\n"
          ],
          "name": "stderr"
        }
      ]
    },
    {
      "cell_type": "code",
      "metadata": {
        "id": "w6lImb-byCql",
        "colab_type": "code",
        "colab": {
          "base_uri": "https://localhost:8080/",
          "height": 139
        },
        "outputId": "679a2180-c119-4ed5-c1dc-2ef51b5dbc48"
      },
      "source": [
        "from sklearn.ensemble import AdaBoostRegressor\n",
        "from sklearn.ensemble import BaggingRegressor\n",
        "\n",
        "best_estimator = Lassreg_cv.best_estimator_\n",
        "\n",
        "lasso_Ada = AdaBoostRegressor(base_estimator=best_estimator)\n",
        "param_Ada = {'learning_rate': np.arange(0.01,1.1,0.01), 'loss': ['linear', 'square', 'exponential'], 'n_estimators': np.arange(5,55,5)}\n",
        "lasso_Ada_cv = RandomizedSearchCV(lasso_Ada, param_Ada, n_jobs = -1)\n",
        "\n",
        "lasso_Ada_cv.fit(X_train, y_train)\n",
        "y_pred_lasso_Ada = lasso_Ada_cv.predict(X_test)\n",
        "\n",
        "print(lasso_Ada_cv.best_params_)\n",
        "print(\"Train score : {}, Test score: {}\".format(lasso_Ada_cv.score(X_train, y_train),lasso_Ada_cv.score(X_test, y_test)))\n",
        "print(\"MSE for Lasso Regression + Adaboost :\",mean_squared_error(y_test, y_pred_lasso_Ada))\n",
        "print()\n",
        "\n",
        "lasso_bag = BaggingRegressor(base_estimator=best_estimator)\n",
        "param_bag = {'n_estimators': np.arange(5,55,5), 'max_features': np.arange(0.1,1.1,0.1), 'max_samples': np.arange(0.1,1.1,0.1)}\n",
        "lasso_bag_cv = RandomizedSearchCV(lasso_bag, param_bag, n_jobs = -1)\n",
        "\n",
        "lasso_bag_cv.fit(X_train, y_train)\n",
        "y_pred_lasso_bag = lasso_bag_cv.predict(X_test)\n",
        "\n",
        "print(lasso_bag_cv.best_params_)\n",
        "print(\"Train score : {}, Test score: {}\".format(lasso_bag_cv.score(X_train, y_train),lasso_bag_cv.score(X_test, y_test)))\n",
        "print(\"MSE for Lasso Regression + Bagging :\",mean_squared_error(y_test, y_pred_lasso_bag))\n"
      ],
      "execution_count": 35,
      "outputs": [
        {
          "output_type": "stream",
          "text": [
            "{'n_estimators': 5, 'loss': 'exponential', 'learning_rate': 0.14}\n",
            "Train score : 0.8098439392064403, Test score: 0.7037474468781868\n",
            "MSE for Lasso Regression + Adaboost : 0.006686467524367823\n",
            "\n",
            "{'n_estimators': 45, 'max_samples': 0.8, 'max_features': 1.0}\n",
            "Train score : 0.8092727410186609, Test score: 0.7090768764138752\n",
            "MSE for Lasso Regression + Bagging : 0.00656618144703861\n"
          ],
          "name": "stdout"
        }
      ]
    },
    {
      "cell_type": "code",
      "metadata": {
        "id": "NJtXnxmsbOr3",
        "colab_type": "code",
        "colab": {
          "base_uri": "https://localhost:8080/",
          "height": 69
        },
        "outputId": "a10e818e-4174-4d84-8b66-e6e185f8f22b"
      },
      "source": [
        "from sklearn.ensemble import RandomForestRegressor\n",
        "\n",
        "param = {'n_estimators': np.arange(100,2000,200),\n",
        "        'criterion': ['mse','mae'], \n",
        "         'max_depth': np.arange(1,20,1), \n",
        "         'min_samples_split': [2,4,6,8], \n",
        "         'min_samples_leaf': np.arange(1,11,1), \n",
        "         'max_features': ['auto','sqrt','log2'],\n",
        "}\n",
        "\n",
        "rf_cv = RandomizedSearchCV(RandomForestRegressor(n_jobs = -1), param, n_jobs = -1)\n",
        "rf_cv.fit(X_train, y_train)\n",
        "y_pred_rf = rf_cv.predict(X_test)\n",
        "\n",
        "print(rf_cv.best_params_)\n",
        "print(\"Train score: {}, Test score: {}\".format(rf_cv.score(X_train, y_train),rf_cv.score(X_test, y_test)))\n",
        "print(\"MSE for Random Forest Regression :\",mean_squared_error(y_test, y_pred_rf))"
      ],
      "execution_count": 36,
      "outputs": [
        {
          "output_type": "stream",
          "text": [
            "{'n_estimators': 1500, 'min_samples_split': 2, 'min_samples_leaf': 7, 'max_features': 'auto', 'max_depth': 7, 'criterion': 'mse'}\n",
            "Train score: 0.861017413864083, Test score: 0.7314955500117748\n",
            "MSE for Random Forest Regression : 0.00606018839694624\n"
          ],
          "name": "stdout"
        }
      ]
    }
  ]
}